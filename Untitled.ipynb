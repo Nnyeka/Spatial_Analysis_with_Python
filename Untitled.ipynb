{
 "cells": [
  {
   "cell_type": "code",
   "execution_count": 6,
   "id": "ac341b55-47b2-48db-b9b9-3d4cea614401",
   "metadata": {},
   "outputs": [],
   "source": [
    "# importing libraries\n",
    "import pandas as pd\n",
    "import numpy as np\n",
    "import seaborn as sns\n",
    "import geopandas as gpd\n",
    "import matplotlib.pyplot as plt\n",
    "from matplotlib.ticker import FuncFormatter\n",
    "import matplotlib.patheffects as pe\n",
    "from mpl_toolkits.axes_grid1 import make_axes_locatable\n",
    "import contextily as ctx\n",
    "from shapely.geometry import Point"
   ]
  },
  {
   "cell_type": "markdown",
   "id": "49950018-e468-47e4-bc04-51589281b09a",
   "metadata": {},
   "source": [
    "Reading Spatial Data"
   ]
  },
  {
   "cell_type": "code",
   "execution_count": 7,
   "id": "92c91784-1dff-4799-b66e-ab08212bcde2",
   "metadata": {},
   "outputs": [
    {
     "name": "stdout",
     "output_type": "stream",
     "text": [
      "shape of data: (195, 9)\n"
     ]
    },
    {
     "data": {
      "text/html": [
       "<div>\n",
       "<style scoped>\n",
       "    .dataframe tbody tr th:only-of-type {\n",
       "        vertical-align: middle;\n",
       "    }\n",
       "\n",
       "    .dataframe tbody tr th {\n",
       "        vertical-align: top;\n",
       "    }\n",
       "\n",
       "    .dataframe thead th {\n",
       "        text-align: right;\n",
       "    }\n",
       "</style>\n",
       "<table border=\"1\" class=\"dataframe\">\n",
       "  <thead>\n",
       "    <tr style=\"text-align: right;\">\n",
       "      <th></th>\n",
       "      <th>OBJECTID</th>\n",
       "      <th>BoroCode</th>\n",
       "      <th>BoroName</th>\n",
       "      <th>CountyFIPS</th>\n",
       "      <th>NTACode</th>\n",
       "      <th>NTAName</th>\n",
       "      <th>Shape__Area</th>\n",
       "      <th>Shape__Length</th>\n",
       "      <th>geometry</th>\n",
       "    </tr>\n",
       "  </thead>\n",
       "  <tbody>\n",
       "    <tr>\n",
       "      <th>0</th>\n",
       "      <td>1</td>\n",
       "      <td>4</td>\n",
       "      <td>Queens</td>\n",
       "      <td>081</td>\n",
       "      <td>QN08</td>\n",
       "      <td>St. Albans</td>\n",
       "      <td>7.741276e+07</td>\n",
       "      <td>45401.225082</td>\n",
       "      <td>POLYGON ((-73.75205 40.70524, -73.75175 40.704...</td>\n",
       "    </tr>\n",
       "    <tr>\n",
       "      <th>1</th>\n",
       "      <td>2</td>\n",
       "      <td>4</td>\n",
       "      <td>Queens</td>\n",
       "      <td>081</td>\n",
       "      <td>QN55</td>\n",
       "      <td>South Ozone Park</td>\n",
       "      <td>8.246139e+07</td>\n",
       "      <td>36708.169305</td>\n",
       "      <td>POLYGON ((-73.80577 40.68294, -73.80552 40.682...</td>\n",
       "    </tr>\n",
       "    <tr>\n",
       "      <th>2</th>\n",
       "      <td>3</td>\n",
       "      <td>3</td>\n",
       "      <td>Brooklyn</td>\n",
       "      <td>047</td>\n",
       "      <td>BK50</td>\n",
       "      <td>Canarsie</td>\n",
       "      <td>8.208973e+07</td>\n",
       "      <td>43703.355420</td>\n",
       "      <td>MULTIPOLYGON (((-73.88834 40.64672, -73.88835 ...</td>\n",
       "    </tr>\n",
       "    <tr>\n",
       "      <th>3</th>\n",
       "      <td>4</td>\n",
       "      <td>2</td>\n",
       "      <td>Bronx</td>\n",
       "      <td>005</td>\n",
       "      <td>BX41</td>\n",
       "      <td>Mount Hope</td>\n",
       "      <td>1.471671e+07</td>\n",
       "      <td>18937.247819</td>\n",
       "      <td>POLYGON ((-73.89561 40.85458, -73.89663 40.852...</td>\n",
       "    </tr>\n",
       "    <tr>\n",
       "      <th>4</th>\n",
       "      <td>5</td>\n",
       "      <td>4</td>\n",
       "      <td>Queens</td>\n",
       "      <td>081</td>\n",
       "      <td>QN26</td>\n",
       "      <td>North Corona</td>\n",
       "      <td>1.800385e+07</td>\n",
       "      <td>18429.533493</td>\n",
       "      <td>POLYGON ((-73.85450 40.75829, -73.85421 40.757...</td>\n",
       "    </tr>\n",
       "  </tbody>\n",
       "</table>\n",
       "</div>"
      ],
      "text/plain": [
       "   OBJECTID  BoroCode  BoroName CountyFIPS NTACode           NTAName  \\\n",
       "0         1         4    Queens        081    QN08        St. Albans   \n",
       "1         2         4    Queens        081    QN55  South Ozone Park   \n",
       "2         3         3  Brooklyn        047    BK50          Canarsie   \n",
       "3         4         2     Bronx        005    BX41        Mount Hope   \n",
       "4         5         4    Queens        081    QN26      North Corona   \n",
       "\n",
       "    Shape__Area  Shape__Length  \\\n",
       "0  7.741276e+07   45401.225082   \n",
       "1  8.246139e+07   36708.169305   \n",
       "2  8.208973e+07   43703.355420   \n",
       "3  1.471671e+07   18937.247819   \n",
       "4  1.800385e+07   18429.533493   \n",
       "\n",
       "                                            geometry  \n",
       "0  POLYGON ((-73.75205 40.70524, -73.75175 40.704...  \n",
       "1  POLYGON ((-73.80577 40.68294, -73.80552 40.682...  \n",
       "2  MULTIPOLYGON (((-73.88834 40.64672, -73.88835 ...  \n",
       "3  POLYGON ((-73.89561 40.85458, -73.89663 40.852...  \n",
       "4  POLYGON ((-73.85450 40.75829, -73.85421 40.757...  "
      ]
     },
     "execution_count": 7,
     "metadata": {},
     "output_type": "execute_result"
    }
   ],
   "source": [
    "# saving neighborhood tabulation areas (nta) file link as 'path'\n",
    "path = 'https://services5.arcgis.com/GfwWNkhOj9bNBqoJ/arcgis/rest/services/NYC_Neighborhood_Tabulation_Areas_2010\\\n",
    "/FeatureServer/0/query?where=1=1&outFields=*&outSR=4326&f=pgeojson'\n",
    "nta_shape = gpd.read_file(path)\n",
    "\n",
    "# sanity check\n",
    "print('shape of data: {}'.format(nta_shape.shape))\n",
    "nta_shape.head()"
   ]
  },
  {
   "cell_type": "code",
   "execution_count": 8,
   "id": "16ef34bd-e61a-46b0-ada1-f1510a030bdf",
   "metadata": {},
   "outputs": [
    {
     "name": "stdout",
     "output_type": "stream",
     "text": [
      "shape of data: (1709, 18)\n"
     ]
    },
    {
     "data": {
      "text/html": [
       "<div>\n",
       "<style scoped>\n",
       "    .dataframe tbody tr th:only-of-type {\n",
       "        vertical-align: middle;\n",
       "    }\n",
       "\n",
       "    .dataframe tbody tr th {\n",
       "        vertical-align: top;\n",
       "    }\n",
       "\n",
       "    .dataframe thead th {\n",
       "        text-align: right;\n",
       "    }\n",
       "</style>\n",
       "<table border=\"1\" class=\"dataframe\">\n",
       "  <thead>\n",
       "    <tr style=\"text-align: right;\">\n",
       "      <th></th>\n",
       "      <th>ATS_CODE</th>\n",
       "      <th>BORO</th>\n",
       "      <th>BORONUM</th>\n",
       "      <th>LOC_CODE</th>\n",
       "      <th>SCHOOLNAME</th>\n",
       "      <th>SCH_TYPE</th>\n",
       "      <th>MANAGED_BY</th>\n",
       "      <th>GEO_DISTRI</th>\n",
       "      <th>ADMIN_DIST</th>\n",
       "      <th>ADDRESS</th>\n",
       "      <th>STATE_CODE</th>\n",
       "      <th>ZIP</th>\n",
       "      <th>PRINCIPAL</th>\n",
       "      <th>PRIN_PH</th>\n",
       "      <th>FAX</th>\n",
       "      <th>GRADES</th>\n",
       "      <th>City</th>\n",
       "      <th>geometry</th>\n",
       "    </tr>\n",
       "  </thead>\n",
       "  <tbody>\n",
       "    <tr>\n",
       "      <th>0</th>\n",
       "      <td>b'15K001 \\xa0\\xa0\\xa0\\xa0\\xa0'</td>\n",
       "      <td>K</td>\n",
       "      <td>2.0</td>\n",
       "      <td>K001</td>\n",
       "      <td>P.S. 001 THE BERGEN</td>\n",
       "      <td>Elementary</td>\n",
       "      <td>1</td>\n",
       "      <td>15</td>\n",
       "      <td>15</td>\n",
       "      <td>309 47 STREET</td>\n",
       "      <td>NY</td>\n",
       "      <td>11220</td>\n",
       "      <td>Jennifer Eusanio</td>\n",
       "      <td>718-567-7661</td>\n",
       "      <td>718-567-9771</td>\n",
       "      <td>PK,0K,01,02,03,04,05,SE</td>\n",
       "      <td>BROOKLYN</td>\n",
       "      <td>POINT (980985.054 175780.759)</td>\n",
       "    </tr>\n",
       "    <tr>\n",
       "      <th>1</th>\n",
       "      <td>b'17K002 \\xa0\\xa0\\xa0\\xa0\\xa0'</td>\n",
       "      <td>K</td>\n",
       "      <td>2.0</td>\n",
       "      <td>K002</td>\n",
       "      <td>M.S. 002</td>\n",
       "      <td>Junior High-Intermediate-Middle</td>\n",
       "      <td>1</td>\n",
       "      <td>17</td>\n",
       "      <td>17</td>\n",
       "      <td>655 PARKSIDE AVENUE</td>\n",
       "      <td>NY</td>\n",
       "      <td>11226</td>\n",
       "      <td>ADRIENNE SPENCER</td>\n",
       "      <td>718-462-6992</td>\n",
       "      <td>718-284-7717</td>\n",
       "      <td>06,07,08,SE</td>\n",
       "      <td>BROOKLYN</td>\n",
       "      <td>POINT (997785.136 178431.911)</td>\n",
       "    </tr>\n",
       "    <tr>\n",
       "      <th>2</th>\n",
       "      <td>b'21K095 \\xa0\\xa0\\xa0\\xa0\\xa0'</td>\n",
       "      <td>K</td>\n",
       "      <td>2.0</td>\n",
       "      <td>K095</td>\n",
       "      <td>P.S. 095 THE GRAVESEND</td>\n",
       "      <td>K-8</td>\n",
       "      <td>1</td>\n",
       "      <td>21</td>\n",
       "      <td>21</td>\n",
       "      <td>345 VAN SICKLEN STREET</td>\n",
       "      <td>NY</td>\n",
       "      <td>11223</td>\n",
       "      <td>Janet Ndzibah</td>\n",
       "      <td>718-449-5050</td>\n",
       "      <td>718-449-3047</td>\n",
       "      <td>PK,0K,01,02,03,04,05,06,07,08,SE</td>\n",
       "      <td>BROOKLYN</td>\n",
       "      <td>POINT (991224.983 156323.361)</td>\n",
       "    </tr>\n",
       "    <tr>\n",
       "      <th>3</th>\n",
       "      <td>b'21K096 \\xa0\\xa0\\xa0\\xa0\\xa0'</td>\n",
       "      <td>K</td>\n",
       "      <td>2.0</td>\n",
       "      <td>K096</td>\n",
       "      <td>I.S. 096 SETH LOW</td>\n",
       "      <td>Junior High-Intermediate-Middle</td>\n",
       "      <td>1</td>\n",
       "      <td>21</td>\n",
       "      <td>21</td>\n",
       "      <td>99 AVENUE P</td>\n",
       "      <td>NY</td>\n",
       "      <td>11204</td>\n",
       "      <td>Denise Sandra Levinsky</td>\n",
       "      <td>718-236-1344</td>\n",
       "      <td>718-236-2397</td>\n",
       "      <td>06,07,08,SE</td>\n",
       "      <td>BROOKLYN</td>\n",
       "      <td>POINT (988439.681 160709.993)</td>\n",
       "    </tr>\n",
       "    <tr>\n",
       "      <th>4</th>\n",
       "      <td>b'21K097 \\xa0\\xa0\\xa0\\xa0\\xa0'</td>\n",
       "      <td>K</td>\n",
       "      <td>2.0</td>\n",
       "      <td>K097</td>\n",
       "      <td>P.S. 97 THE HIGHLAWN</td>\n",
       "      <td>Elementary</td>\n",
       "      <td>1</td>\n",
       "      <td>21</td>\n",
       "      <td>21</td>\n",
       "      <td>1855 STILLWELL AVENUE</td>\n",
       "      <td>NY</td>\n",
       "      <td>11223</td>\n",
       "      <td>KRISTINE MUSTILLO</td>\n",
       "      <td>718-372-7393</td>\n",
       "      <td>718-372-3842</td>\n",
       "      <td>PK,0K,01,02,03,04,05,SE</td>\n",
       "      <td>BROOKLYN</td>\n",
       "      <td>POINT (988205.073 158329.591)</td>\n",
       "    </tr>\n",
       "  </tbody>\n",
       "</table>\n",
       "</div>"
      ],
      "text/plain": [
       "                         ATS_CODE BORO  BORONUM LOC_CODE  \\\n",
       "0  b'15K001 \\xa0\\xa0\\xa0\\xa0\\xa0'    K      2.0     K001   \n",
       "1  b'17K002 \\xa0\\xa0\\xa0\\xa0\\xa0'    K      2.0     K002   \n",
       "2  b'21K095 \\xa0\\xa0\\xa0\\xa0\\xa0'    K      2.0     K095   \n",
       "3  b'21K096 \\xa0\\xa0\\xa0\\xa0\\xa0'    K      2.0     K096   \n",
       "4  b'21K097 \\xa0\\xa0\\xa0\\xa0\\xa0'    K      2.0     K097   \n",
       "\n",
       "               SCHOOLNAME                         SCH_TYPE  MANAGED_BY  \\\n",
       "0     P.S. 001 THE BERGEN                       Elementary           1   \n",
       "1                M.S. 002  Junior High-Intermediate-Middle           1   \n",
       "2  P.S. 095 THE GRAVESEND                              K-8           1   \n",
       "3       I.S. 096 SETH LOW  Junior High-Intermediate-Middle           1   \n",
       "4    P.S. 97 THE HIGHLAWN                       Elementary           1   \n",
       "\n",
       "   GEO_DISTRI  ADMIN_DIST                 ADDRESS STATE_CODE    ZIP  \\\n",
       "0          15          15           309 47 STREET         NY  11220   \n",
       "1          17          17     655 PARKSIDE AVENUE         NY  11226   \n",
       "2          21          21  345 VAN SICKLEN STREET         NY  11223   \n",
       "3          21          21             99 AVENUE P         NY  11204   \n",
       "4          21          21   1855 STILLWELL AVENUE         NY  11223   \n",
       "\n",
       "                PRINCIPAL       PRIN_PH           FAX  \\\n",
       "0        Jennifer Eusanio  718-567-7661  718-567-9771   \n",
       "1        ADRIENNE SPENCER  718-462-6992  718-284-7717   \n",
       "2           Janet Ndzibah  718-449-5050  718-449-3047   \n",
       "3  Denise Sandra Levinsky  718-236-1344  718-236-2397   \n",
       "4       KRISTINE MUSTILLO  718-372-7393  718-372-3842   \n",
       "\n",
       "                             GRADES      City                       geometry  \n",
       "0           PK,0K,01,02,03,04,05,SE  BROOKLYN  POINT (980985.054 175780.759)  \n",
       "1                       06,07,08,SE  BROOKLYN  POINT (997785.136 178431.911)  \n",
       "2  PK,0K,01,02,03,04,05,06,07,08,SE  BROOKLYN  POINT (991224.983 156323.361)  \n",
       "3                       06,07,08,SE  BROOKLYN  POINT (988439.681 160709.993)  \n",
       "4           PK,0K,01,02,03,04,05,SE  BROOKLYN  POINT (988205.073 158329.591)  "
      ]
     },
     "execution_count": 8,
     "metadata": {},
     "output_type": "execute_result"
    }
   ],
   "source": [
    "# saving school points shapefile link as 'path'\n",
    "path = 'https://data.cityofnewyork.us/download/jfju-ynrr/application%2Fzip'\n",
    "school_points = gpd.read_file(path) \n",
    "\n",
    "# sanity check\n",
    "print('shape of data: {}'.format(school_points.shape))\n",
    "school_points.head()"
   ]
  },
  {
   "cell_type": "markdown",
   "id": "4f8af25d-fbe8-4e28-8673-0508f0afaf3a",
   "metadata": {},
   "source": [
    "Writing Spatial Data"
   ]
  },
  {
   "cell_type": "code",
   "execution_count": 10,
   "id": "7c8827a3-2cd5-4a3f-97a5-e827a4c0ef75",
   "metadata": {},
   "outputs": [
    {
     "name": "stderr",
     "output_type": "stream",
     "text": [
      "<ipython-input-10-dc28c7b1f1a6>:2: UserWarning: Column names longer than 10 characters will be truncated when saved to ESRI Shapefile.\n",
      "  nta_shape.to_file(\"nta_shape.shp\", index=False)\n"
     ]
    }
   ],
   "source": [
    "# Writing nta file to Shapefile foramt\n",
    "nta_shape.to_file(\"nta_shape.shp\", index=False)\n",
    "\n",
    "# Writing nta file to GeoJSON format\n",
    "nta_shape.to_file(\"nta_shape.geojson\", driver='GeoJSON', index=False)"
   ]
  },
  {
   "cell_type": "code",
   "execution_count": 15,
   "id": "c7739009-7d3e-4c59-be33-48a21ffeabdf",
   "metadata": {},
   "outputs": [
    {
     "data": {
      "text/plain": [
       "geopandas.geoseries.GeoSeries"
      ]
     },
     "execution_count": 15,
     "metadata": {},
     "output_type": "execute_result"
    }
   ],
   "source": [
    "# returning the type of a column in our dataframe\n",
    "type(nta_shape['geometry'])"
   ]
  },
  {
   "cell_type": "markdown",
   "id": "3bbd7b0a-4836-4d14-9eda-a5c8f65f2ede",
   "metadata": {},
   "source": [
    "Basic Attributes"
   ]
  },
  {
   "cell_type": "code",
   "execution_count": 16,
   "id": "146c762d-9be7-4369-826f-e80be9768929",
   "metadata": {},
   "outputs": [
    {
     "name": "stdout",
     "output_type": "stream",
     "text": [
      "shape of data: (195, 9)\n"
     ]
    },
    {
     "data": {
      "text/html": [
       "<div>\n",
       "<style scoped>\n",
       "    .dataframe tbody tr th:only-of-type {\n",
       "        vertical-align: middle;\n",
       "    }\n",
       "\n",
       "    .dataframe tbody tr th {\n",
       "        vertical-align: top;\n",
       "    }\n",
       "\n",
       "    .dataframe thead th {\n",
       "        text-align: right;\n",
       "    }\n",
       "</style>\n",
       "<table border=\"1\" class=\"dataframe\">\n",
       "  <thead>\n",
       "    <tr style=\"text-align: right;\">\n",
       "      <th></th>\n",
       "      <th>OBJECTID</th>\n",
       "      <th>BoroCode</th>\n",
       "      <th>BoroName</th>\n",
       "      <th>CountyFIPS</th>\n",
       "      <th>NTACode</th>\n",
       "      <th>NTAName</th>\n",
       "      <th>Shape__Area</th>\n",
       "      <th>Shape__Length</th>\n",
       "      <th>geometry</th>\n",
       "    </tr>\n",
       "  </thead>\n",
       "  <tbody>\n",
       "    <tr>\n",
       "      <th>0</th>\n",
       "      <td>1</td>\n",
       "      <td>4</td>\n",
       "      <td>Queens</td>\n",
       "      <td>081</td>\n",
       "      <td>QN08</td>\n",
       "      <td>St. Albans</td>\n",
       "      <td>7.741276e+07</td>\n",
       "      <td>45401.225082</td>\n",
       "      <td>POLYGON ((-73.75205 40.70524, -73.75175 40.704...</td>\n",
       "    </tr>\n",
       "    <tr>\n",
       "      <th>1</th>\n",
       "      <td>2</td>\n",
       "      <td>4</td>\n",
       "      <td>Queens</td>\n",
       "      <td>081</td>\n",
       "      <td>QN55</td>\n",
       "      <td>South Ozone Park</td>\n",
       "      <td>8.246139e+07</td>\n",
       "      <td>36708.169305</td>\n",
       "      <td>POLYGON ((-73.80577 40.68294, -73.80552 40.682...</td>\n",
       "    </tr>\n",
       "    <tr>\n",
       "      <th>2</th>\n",
       "      <td>3</td>\n",
       "      <td>3</td>\n",
       "      <td>Brooklyn</td>\n",
       "      <td>047</td>\n",
       "      <td>BK50</td>\n",
       "      <td>Canarsie</td>\n",
       "      <td>8.208973e+07</td>\n",
       "      <td>43703.355420</td>\n",
       "      <td>MULTIPOLYGON (((-73.88834 40.64672, -73.88835 ...</td>\n",
       "    </tr>\n",
       "    <tr>\n",
       "      <th>3</th>\n",
       "      <td>4</td>\n",
       "      <td>2</td>\n",
       "      <td>Bronx</td>\n",
       "      <td>005</td>\n",
       "      <td>BX41</td>\n",
       "      <td>Mount Hope</td>\n",
       "      <td>1.471671e+07</td>\n",
       "      <td>18937.247819</td>\n",
       "      <td>POLYGON ((-73.89561 40.85458, -73.89663 40.852...</td>\n",
       "    </tr>\n",
       "    <tr>\n",
       "      <th>4</th>\n",
       "      <td>5</td>\n",
       "      <td>4</td>\n",
       "      <td>Queens</td>\n",
       "      <td>081</td>\n",
       "      <td>QN26</td>\n",
       "      <td>North Corona</td>\n",
       "      <td>1.800385e+07</td>\n",
       "      <td>18429.533493</td>\n",
       "      <td>POLYGON ((-73.85450 40.75829, -73.85421 40.757...</td>\n",
       "    </tr>\n",
       "  </tbody>\n",
       "</table>\n",
       "</div>"
      ],
      "text/plain": [
       "   OBJECTID  BoroCode  BoroName CountyFIPS NTACode           NTAName  \\\n",
       "0         1         4    Queens        081    QN08        St. Albans   \n",
       "1         2         4    Queens        081    QN55  South Ozone Park   \n",
       "2         3         3  Brooklyn        047    BK50          Canarsie   \n",
       "3         4         2     Bronx        005    BX41        Mount Hope   \n",
       "4         5         4    Queens        081    QN26      North Corona   \n",
       "\n",
       "    Shape__Area  Shape__Length  \\\n",
       "0  7.741276e+07   45401.225082   \n",
       "1  8.246139e+07   36708.169305   \n",
       "2  8.208973e+07   43703.355420   \n",
       "3  1.471671e+07   18937.247819   \n",
       "4  1.800385e+07   18429.533493   \n",
       "\n",
       "                                            geometry  \n",
       "0  POLYGON ((-73.75205 40.70524, -73.75175 40.704...  \n",
       "1  POLYGON ((-73.80577 40.68294, -73.80552 40.682...  \n",
       "2  MULTIPOLYGON (((-73.88834 40.64672, -73.88835 ...  \n",
       "3  POLYGON ((-73.89561 40.85458, -73.89663 40.852...  \n",
       "4  POLYGON ((-73.85450 40.75829, -73.85421 40.757...  "
      ]
     },
     "execution_count": 16,
     "metadata": {},
     "output_type": "execute_result"
    }
   ],
   "source": [
    "path = 'https://services5.arcgis.com/GfwWNkhOj9bNBqoJ/arcgis/rest/services/NYC_Neighborhood_Tabulation_Areas_2010\\\n",
    "/FeatureServer/0/query?where=1=1&outFields=*&outSR=4326&f=pgeojson'\n",
    "nta_shape = gpd.read_file(path)\n",
    "\n",
    "print('shape of data: {}'.format(nta_shape.shape))\n",
    "nta_shape.head()"
   ]
  },
  {
   "cell_type": "code",
   "execution_count": 17,
   "id": "d3602382-98a0-48db-ac87-ae44f50cca4d",
   "metadata": {},
   "outputs": [
    {
     "data": {
      "text/plain": [
       "<Geographic 2D CRS: EPSG:4326>\n",
       "Name: WGS 84\n",
       "Axis Info [ellipsoidal]:\n",
       "- Lat[north]: Geodetic latitude (degree)\n",
       "- Lon[east]: Geodetic longitude (degree)\n",
       "Area of Use:\n",
       "- name: World.\n",
       "- bounds: (-180.0, -90.0, 180.0, 90.0)\n",
       "Datum: World Geodetic System 1984\n",
       "- Ellipsoid: WGS 84\n",
       "- Prime Meridian: Greenwich"
      ]
     },
     "execution_count": 17,
     "metadata": {},
     "output_type": "execute_result"
    }
   ],
   "source": [
    "# returns the object's Coordinate Reference System (CRS)\n",
    "nta_shape.crs"
   ]
  },
  {
   "cell_type": "code",
   "execution_count": 18,
   "id": "a1aac087-316d-4804-9cb4-af05fd872c33",
   "metadata": {},
   "outputs": [
    {
     "data": {
      "text/plain": [
       "<Projected CRS: EPSG:2263>\n",
       "Name: NAD83 / New York Long Island (ftUS)\n",
       "Axis Info [cartesian]:\n",
       "- X[east]: Easting (US survey foot)\n",
       "- Y[north]: Northing (US survey foot)\n",
       "Area of Use:\n",
       "- name: United States (USA) - New York - counties of Bronx; Kings; Nassau; New York; Queens; Richmond; Suffolk.\n",
       "- bounds: (-74.26, 40.47, -71.8, 41.3)\n",
       "Coordinate Operation:\n",
       "- name: SPCS83 New York Long Island zone (US Survey feet)\n",
       "- method: Lambert Conic Conformal (2SP)\n",
       "Datum: North American Datum 1983\n",
       "- Ellipsoid: GRS 1980\n",
       "- Prime Meridian: Greenwich"
      ]
     },
     "execution_count": 18,
     "metadata": {},
     "output_type": "execute_result"
    }
   ],
   "source": [
    "# changing the CRS to 2263\n",
    "nta_shape = nta_shape.to_crs(epsg=2263)\n",
    "\n",
    "nta_shape.crs"
   ]
  },
  {
   "cell_type": "code",
   "execution_count": 19,
   "id": "7bc2d6bc-b0ec-4ca6-81ca-6167e0cceeb9",
   "metadata": {},
   "outputs": [
    {
     "data": {
      "text/plain": [
       "'geometry'"
      ]
     },
     "execution_count": 19,
     "metadata": {},
     "output_type": "execute_result"
    }
   ],
   "source": [
    "# returning the geometry column name of our dataframe\n",
    "nta_shape.geometry.name"
   ]
  },
  {
   "cell_type": "code",
   "execution_count": 20,
   "id": "d3b1424b-92d3-4424-891a-1c7d5f87f852",
   "metadata": {},
   "outputs": [
    {
     "data": {
      "text/plain": [
       "0    7.741295e+07\n",
       "1    8.246163e+07\n",
       "2    8.208999e+07\n",
       "3    1.471672e+07\n",
       "4    1.800388e+07\n",
       "dtype: float64"
      ]
     },
     "execution_count": 20,
     "metadata": {},
     "output_type": "execute_result"
    }
   ],
   "source": [
    "# returns the area of each geometry in our dataframe\n",
    "(nta_shape\n",
    " .area\n",
    " .head()\n",
    ")"
   ]
  },
  {
   "cell_type": "code",
   "execution_count": 21,
   "id": "e54807e9-e98e-4d1b-8d97-a6e5026df753",
   "metadata": {},
   "outputs": [
    {
     "data": {
      "text/plain": [
       "0    45401.271303\n",
       "1    36708.218997\n",
       "2    43703.421679\n",
       "3    18937.254355\n",
       "4    18429.554579\n",
       "dtype: float64"
      ]
     },
     "execution_count": 21,
     "metadata": {},
     "output_type": "execute_result"
    }
   ],
   "source": [
    "# returns the length of each geometry in our dataframe\n",
    "(nta_shape\n",
    " .length\n",
    " .head()\n",
    ")"
   ]
  },
  {
   "cell_type": "code",
   "execution_count": 22,
   "id": "6d358dbd-198f-43cf-90ee-804c9333cf59",
   "metadata": {},
   "outputs": [
    {
     "data": {
      "text/html": [
       "<div>\n",
       "<style scoped>\n",
       "    .dataframe tbody tr th:only-of-type {\n",
       "        vertical-align: middle;\n",
       "    }\n",
       "\n",
       "    .dataframe tbody tr th {\n",
       "        vertical-align: top;\n",
       "    }\n",
       "\n",
       "    .dataframe thead th {\n",
       "        text-align: right;\n",
       "    }\n",
       "</style>\n",
       "<table border=\"1\" class=\"dataframe\">\n",
       "  <thead>\n",
       "    <tr style=\"text-align: right;\">\n",
       "      <th></th>\n",
       "      <th>minx</th>\n",
       "      <th>miny</th>\n",
       "      <th>maxx</th>\n",
       "      <th>maxy</th>\n",
       "    </tr>\n",
       "  </thead>\n",
       "  <tbody>\n",
       "    <tr>\n",
       "      <th>0</th>\n",
       "      <td>1.044355e+06</td>\n",
       "      <td>184845.847546</td>\n",
       "      <td>1.055350e+06</td>\n",
       "      <td>197904.544570</td>\n",
       "    </tr>\n",
       "    <tr>\n",
       "      <th>1</th>\n",
       "      <td>1.028591e+06</td>\n",
       "      <td>180690.523595</td>\n",
       "      <td>1.039416e+06</td>\n",
       "      <td>191431.566693</td>\n",
       "    </tr>\n",
       "    <tr>\n",
       "      <th>2</th>\n",
       "      <td>1.006464e+06</td>\n",
       "      <td>166079.738521</td>\n",
       "      <td>1.018348e+06</td>\n",
       "      <td>178005.554247</td>\n",
       "    </tr>\n",
       "    <tr>\n",
       "      <th>3</th>\n",
       "      <td>1.007222e+06</td>\n",
       "      <td>246205.578554</td>\n",
       "      <td>1.013128e+06</td>\n",
       "      <td>251177.316970</td>\n",
       "    </tr>\n",
       "    <tr>\n",
       "      <th>4</th>\n",
       "      <td>1.019252e+06</td>\n",
       "      <td>210706.938491</td>\n",
       "      <td>1.024941e+06</td>\n",
       "      <td>215596.863005</td>\n",
       "    </tr>\n",
       "  </tbody>\n",
       "</table>\n",
       "</div>"
      ],
      "text/plain": [
       "           minx           miny          maxx           maxy\n",
       "0  1.044355e+06  184845.847546  1.055350e+06  197904.544570\n",
       "1  1.028591e+06  180690.523595  1.039416e+06  191431.566693\n",
       "2  1.006464e+06  166079.738521  1.018348e+06  178005.554247\n",
       "3  1.007222e+06  246205.578554  1.013128e+06  251177.316970\n",
       "4  1.019252e+06  210706.938491  1.024941e+06  215596.863005"
      ]
     },
     "execution_count": 22,
     "metadata": {},
     "output_type": "execute_result"
    }
   ],
   "source": [
    "# returns the bounds of each geometry in our dataframe\n",
    "(nta_shape\n",
    " .bounds\n",
    " .head()\n",
    ")"
   ]
  },
  {
   "cell_type": "code",
   "execution_count": 23,
   "id": "a0bb442e-9923-4344-a6dc-4ed5d5e2ec80",
   "metadata": {},
   "outputs": [
    {
     "data": {
      "text/plain": [
       "array([ 913174.90970924,  120131.4602932 , 1067382.17172758,\n",
       "        272847.44352011])"
      ]
     },
     "execution_count": 23,
     "metadata": {},
     "output_type": "execute_result"
    }
   ],
   "source": [
    "# returns the values for the bounds of the series as a whole\n",
    "nta_shape.total_bounds"
   ]
  },
  {
   "cell_type": "code",
   "execution_count": 24,
   "id": "92379624-d001-40d9-9577-e5afcef6e3a5",
   "metadata": {},
   "outputs": [
    {
     "data": {
      "text/plain": [
       "0         Polygon\n",
       "1         Polygon\n",
       "2    MultiPolygon\n",
       "3         Polygon\n",
       "4         Polygon\n",
       "dtype: object"
      ]
     },
     "execution_count": 24,
     "metadata": {},
     "output_type": "execute_result"
    }
   ],
   "source": [
    "# returning the type of geometries\n",
    "(nta_shape\n",
    " .geom_type\n",
    " .head()\n",
    ")"
   ]
  },
  {
   "cell_type": "code",
   "execution_count": 25,
   "id": "5bb36fda-f267-48d8-8c24-027540cfd29d",
   "metadata": {},
   "outputs": [
    {
     "data": {
      "text/plain": [
       "0    True\n",
       "1    True\n",
       "2    True\n",
       "3    True\n",
       "4    True\n",
       "dtype: bool"
      ]
     },
     "execution_count": 25,
     "metadata": {},
     "output_type": "execute_result"
    }
   ],
   "source": [
    "# returning valid geometry\n",
    "(nta_shape\n",
    " .is_valid\n",
    " .head()\n",
    ")"
   ]
  },
  {
   "cell_type": "code",
   "execution_count": null,
   "id": "0e6473b8-e20c-4137-a419-0091c996baf1",
   "metadata": {},
   "outputs": [],
   "source": [
    "path = 'https://data.cityofnewyork.us/download/jfju-ynrr/application%2Fzip'\n",
    "school_points = gpd.read_file(path) \n",
    "\n",
    "print('shape of data: {}'.format(school_points.shape))\n",
    "school_points.head()"
   ]
  }
 ],
 "metadata": {
  "kernelspec": {
   "display_name": "Python 3",
   "language": "python",
   "name": "python3"
  },
  "language_info": {
   "codemirror_mode": {
    "name": "ipython",
    "version": 3
   },
   "file_extension": ".py",
   "mimetype": "text/x-python",
   "name": "python",
   "nbconvert_exporter": "python",
   "pygments_lexer": "ipython3",
   "version": "3.8.15"
  }
 },
 "nbformat": 4,
 "nbformat_minor": 5
}
